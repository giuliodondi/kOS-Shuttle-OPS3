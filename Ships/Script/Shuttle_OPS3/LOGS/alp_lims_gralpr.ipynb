{
 "cells": [
  {
   "cell_type": "code",
   "execution_count": 1,
   "id": "b029f64c",
   "metadata": {},
   "outputs": [
    {
     "name": "stderr",
     "output_type": "stream",
     "text": [
      "C:\\Users\\giuli\\AppData\\Local\\Temp\\ipykernel_6500\\2002964172.py:7: DeprecationWarning: \n",
      "Pyarrow will become a required dependency of pandas in the next major release of pandas (pandas 3.0),\n",
      "(to allow more performant data types, such as the Arrow string type, and better interoperability with other libraries)\n",
      "but was not found to be installed on your system.\n",
      "If this would cause problems for you,\n",
      "please provide us feedback at https://github.com/pandas-dev/pandas/issues/54466\n",
      "        \n",
      "  import pandas as pd\n"
     ]
    }
   ],
   "source": [
    "from IPython.core.interactiveshell import InteractiveShell\n",
    "InteractiveShell.ast_node_interactivity = \"all\"\n",
    "\n",
    "import numpy as np\n",
    "import math\n",
    "import os\n",
    "import pandas as pd\n",
    "import matplotlib.pyplot as plt\n",
    "from mpl_toolkits.mplot3d import axes3d  \n",
    "\n",
    "from math import log2, radians, cos, sqrt\n",
    "\n",
    "pd.options.display.max_rows = 4000\n",
    "\n",
    "from matplotlib.colors import ListedColormap"
   ]
  },
  {
   "cell_type": "code",
   "execution_count": 2,
   "id": "5c440130",
   "metadata": {},
   "outputs": [],
   "source": [
    "def midval(a, b, c):\n",
    "    maxx = max(max(a,b), c)\n",
    "    minn = min(min(a, b), c)\n",
    "    \n",
    "    return a + b + c - maxx - minn"
   ]
  },
  {
   "cell_type": "code",
   "execution_count": 103,
   "id": "4922e190",
   "metadata": {},
   "outputs": [
    {
     "data": {
      "text/plain": [
       "(2.29925, 8.464905)"
      ]
     },
     "execution_count": 103,
     "metadata": {},
     "output_type": "execute_result"
    }
   ],
   "source": [
    "def alpul(m):\n",
    "    alpulc1 = 3.4637\n",
    "    alpulc2=9.2353\n",
    "    alpulc3=13.7\n",
    "    alpulc4=20\n",
    "    \n",
    "    return midval(alpulc1 * m + alpulc2, alpulc3, alpulc4)\n",
    "\n",
    "2.29925, 8.464905\n",
    "    \n",
    "def alpll(m):\n",
    "    alpllcm1=2.25\n",
    "    alpllcm2=3.2\n",
    "    alpllc1=2.2706\n",
    "    alpllc2=-2.3096\n",
    "    alpllc3=5.96384\n",
    "    alpllc4=-10.6194\n",
    "    alpllc5=3.4637\n",
    "    alpllc6=-2.618935\n",
    "    alpllc7=14\n",
    "    alpllc8=0\n",
    "    \n",
    "    if (m < alpllcm1):\n",
    "        return midval(alpllc1 * m + alpllc2, alpllc7, alpllc8)\n",
    "    elif (m < alpllcm2):\n",
    "        return midval(alpllc3 * m + alpllc4, alpllc7, alpllc8)\n",
    "    else:\n",
    "        return midval(alpllc5 * m + alpllc6, alpllc7, alpllc8)\n",
    "\n",
    "def gralpr(m):\n",
    "    gralps=2.6637\n",
    "    gralpi=6.712\n",
    "    gralpl=10\n",
    "    gralpu=17.55\n",
    "\n",
    "    return midval(gralps * m + gralpi, gralpl, gralpu)"
   ]
  },
  {
   "cell_type": "code",
   "execution_count": 105,
   "id": "50a6bf9a",
   "metadata": {},
   "outputs": [
    {
     "name": "stdout",
     "output_type": "stream",
     "text": [
      "4.290199999999999\n"
     ]
    },
    {
     "data": {
      "text/plain": [
       "[<matplotlib.lines.Line2D at 0x1d4d11b0510>]"
      ]
     },
     "execution_count": 105,
     "metadata": {},
     "output_type": "execute_result"
    },
    {
     "data": {
      "text/plain": [
       "[<matplotlib.lines.Line2D at 0x1d4d1194bd0>]"
      ]
     },
     "execution_count": 105,
     "metadata": {},
     "output_type": "execute_result"
    },
    {
     "data": {
      "text/plain": [
       "[<matplotlib.lines.Line2D at 0x1d4d11b3c10>]"
      ]
     },
     "execution_count": 105,
     "metadata": {},
     "output_type": "execute_result"
    },
    {
     "data": {
      "image/png": "[encoded data removed]",
      "text/plain": [
       "<Figure size 640x480 with 1 Axes>"
      ]
     },
     "metadata": {},
     "output_type": "display_data"
    }
   ],
   "source": [
    "m_ = np.linspace(0, 6, 1000)\n",
    "\n",
    "alpul_ = [alpul(m) for m in m_]\n",
    "alpll_ = [alpll(m) for m in m_]\n",
    "gralpr_ = [gralpr(m) for m in m_]\n",
    "\n",
    "print(alpll(2.5))\n",
    "\n",
    "plt.plot(m_, gralpr_)\n",
    "plt.plot(m_, alpul_, '--')\n",
    "plt.plot(m_, alpll_, '--')"
   ]
  },
  {
   "cell_type": "code",
   "execution_count": null,
   "id": "cad29794",
   "metadata": {},
   "outputs": [],
   "source": []
  },
  {
   "cell_type": "code",
   "execution_count": null,
   "id": "91fb4d3b",
   "metadata": {},
   "outputs": [],
   "source": []
  },
  {
   "cell_type": "code",
   "execution_count": null,
   "id": "aeb078bb",
   "metadata": {},
   "outputs": [],
   "source": []
  }
 ],
 "metadata": {
  "kernelspec": {
   "display_name": "Python 3 (ipykernel)",
   "language": "python",
   "name": "python3"
  },
  "language_info": {
   "codemirror_mode": {
    "name": "ipython",
    "version": 3
   },
   "file_extension": ".py",
   "mimetype": "text/x-python",
   "name": "python",
   "nbconvert_exporter": "python",
   "pygments_lexer": "ipython3",
   "version": "3.11.7"
  }
 },
 "nbformat": 4,
 "nbformat_minor": 5
}
