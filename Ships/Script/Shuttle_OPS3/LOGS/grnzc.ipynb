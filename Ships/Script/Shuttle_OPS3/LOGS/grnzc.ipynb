{
 "cells": [
  {
   "cell_type": "code",
   "execution_count": 1,
   "id": "8c2220a8",
   "metadata": {},
   "outputs": [],
   "source": [
    "from IPython.core.interactiveshell import InteractiveShell\n",
    "InteractiveShell.ast_node_interactivity = \"all\"\n",
    "\n",
    "import numpy as np\n",
    "import math\n",
    "import os\n",
    "import pandas as pd\n",
    "import matplotlib.pyplot as plt\n",
    "from mpl_toolkits.mplot3d import axes3d  \n",
    "\n",
    "\n",
    "\n",
    "pd.options.display.max_rows = 4000\n",
    "\n",
    "from matplotlib.colors import ListedColormap"
   ]
  },
  {
   "cell_type": "code",
   "execution_count": 2,
   "id": "7644d633",
   "metadata": {},
   "outputs": [],
   "source": [
    "def midval(a, b, c):\n",
    "    maxx = max(max(a,b), c)\n",
    "    minn = min(min(a, b), c)\n",
    "    \n",
    "    return a + b + c - maxx - minn\n",
    "\n"
   ]
  },
  {
   "cell_type": "code",
   "execution_count": null,
   "id": "b8c89d3a",
   "metadata": {},
   "outputs": [],
   "source": []
  },
  {
   "cell_type": "code",
   "execution_count": 19,
   "id": "c6366b86",
   "metadata": {},
   "outputs": [
    {
     "name": "stdout",
     "output_type": "stream",
     "text": [
      "0.5\n"
     ]
    },
    {
     "data": {
      "text/plain": [
       "[<matplotlib.lines.Line2D at 0x1d0cd321090>]"
      ]
     },
     "execution_count": 19,
     "metadata": {},
     "output_type": "execute_result"
    },
    {
     "data": {
      "image/png": "[encoded data removed]",
      "text/plain": [
       "<Figure size 640x480 with 1 Axes>"
      ]
     },
     "metadata": {},
     "output_type": "display_data"
    }
   ],
   "source": [
    "\n",
    "\n",
    "dtg = 0.05\n",
    "dtg0 = 0.96\n",
    "\n",
    "grnzc1 = 1.2\n",
    "smnzc1 = 0.125\n",
    "smnzc2 = 0.575\n",
    "smnzc3 = 0.7314\n",
    "#smnzc4 = 0.0086956\n",
    "smnzc4 = 0.028\n",
    "smnz2l = -0.05\n",
    "\n",
    "\n",
    "steps = round(60 / dtg)\n",
    "\n",
    "t = []\n",
    "\n",
    "grnzc = []\n",
    "\n",
    "tc = 0\n",
    "smnz1 = smnzc1\n",
    "smnz2 = smnzc2\n",
    "for s in range(0, steps, 1):\n",
    "    \n",
    "    t.append(tc)\n",
    "    \n",
    "    nzc = grnzc1 - smnz1 - smnz2\n",
    "    \n",
    "    grnzc.append(nzc)\n",
    "    \n",
    "    tc += dtg\n",
    "    smnz1 = smnz1 * (smnzc3**dtg)\n",
    "    smnz2 = max(smnz2 - (smnzc4 * dtg), smnz2l)\n",
    "\n",
    "\n",
    "print(grnzc[0])\n",
    "\n",
    "plt.plot(t, grnzc)"
   ]
  },
  {
   "cell_type": "code",
   "execution_count": null,
   "id": "07b4f8e0",
   "metadata": {},
   "outputs": [],
   "source": []
  },
  {
   "cell_type": "code",
   "execution_count": null,
   "id": "37a8f942",
   "metadata": {},
   "outputs": [],
   "source": []
  },
  {
   "cell_type": "code",
   "execution_count": null,
   "id": "c0bc88d5",
   "metadata": {},
   "outputs": [],
   "source": []
  }
 ],
 "metadata": {
  "kernelspec": {
   "display_name": "Python 3 (ipykernel)",
   "language": "python",
   "name": "python3"
  },
  "language_info": {
   "codemirror_mode": {
    "name": "ipython",
    "version": 3
   },
   "file_extension": ".py",
   "mimetype": "text/x-python",
   "name": "python",
   "nbconvert_exporter": "python",
   "pygments_lexer": "ipython3",
   "version": "3.11.7"
  }
 },
 "nbformat": 4,
 "nbformat_minor": 5
}
