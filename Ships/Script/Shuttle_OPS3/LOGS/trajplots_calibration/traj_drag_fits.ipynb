{
 "cells": [
  {
   "cell_type": "code",
   "execution_count": 22,
   "id": "01f2c0cb-b172-483d-bfab-7737b67b2567",
   "metadata": {},
   "outputs": [],
   "source": [
    "from IPython.core.interactiveshell import InteractiveShell\n",
    "InteractiveShell.ast_node_interactivity = \"all\""
   ]
  },
  {
   "cell_type": "code",
   "execution_count": 23,
   "id": "b15c689d-2272-4c90-92d1-f804c7f9e979",
   "metadata": {},
   "outputs": [
    {
     "name": "stdout",
     "output_type": "stream",
     "text": [
      "1.0.2\n"
     ]
    }
   ],
   "source": [
    "import pandas as pd\n",
    "import matplotlib.pyplot as plt\n",
    "from mpl_toolkits.mplot3d import Axes3D\n",
    "import numpy as np\n",
    "\n",
    "from sklearn.linear_model import LinearRegression\n",
    "from mpl_toolkits.mplot3d import Axes3D\n",
    "from sklearn.preprocessing import PolynomialFeatures\n",
    "from sklearn.linear_model import LinearRegression\n",
    "from sklearn.pipeline import make_pipeline\n",
    "\n",
    "import sklearn\n",
    "print(sklearn.__version__)"
   ]
  },
  {
   "cell_type": "code",
   "execution_count": 24,
   "id": "a7e3d829-a5d6-4ecb-8792-9f27c35955d3",
   "metadata": {},
   "outputs": [
    {
     "data": {
      "text/html": [
       "<div>\n",
       "<style scoped>\n",
       "    .dataframe tbody tr th:only-of-type {\n",
       "        vertical-align: middle;\n",
       "    }\n",
       "\n",
       "    .dataframe tbody tr th {\n",
       "        vertical-align: top;\n",
       "    }\n",
       "\n",
       "    .dataframe thead th {\n",
       "        text-align: right;\n",
       "    }\n",
       "</style>\n",
       "<table border=\"1\" class=\"dataframe\">\n",
       "  <thead>\n",
       "    <tr style=\"text-align: right;\">\n",
       "      <th></th>\n",
       "      <th>vel</th>\n",
       "      <th>10</th>\n",
       "      <th>20</th>\n",
       "      <th>30</th>\n",
       "    </tr>\n",
       "  </thead>\n",
       "  <tbody>\n",
       "    <tr>\n",
       "      <th>0</th>\n",
       "      <td>905</td>\n",
       "      <td>216</td>\n",
       "      <td>87</td>\n",
       "      <td>50</td>\n",
       "    </tr>\n",
       "    <tr>\n",
       "      <th>1</th>\n",
       "      <td>1109</td>\n",
       "      <td>302</td>\n",
       "      <td>193</td>\n",
       "      <td>145</td>\n",
       "    </tr>\n",
       "    <tr>\n",
       "      <th>2</th>\n",
       "      <td>1316</td>\n",
       "      <td>375</td>\n",
       "      <td>278</td>\n",
       "      <td>240</td>\n",
       "    </tr>\n",
       "    <tr>\n",
       "      <th>3</th>\n",
       "      <td>1523</td>\n",
       "      <td>427</td>\n",
       "      <td>337</td>\n",
       "      <td>288</td>\n",
       "    </tr>\n",
       "    <tr>\n",
       "      <th>4</th>\n",
       "      <td>1729</td>\n",
       "      <td>462</td>\n",
       "      <td>376</td>\n",
       "      <td>330</td>\n",
       "    </tr>\n",
       "  </tbody>\n",
       "</table>\n",
       "</div>"
      ],
      "text/plain": [
       "    vel   10   20   30\n",
       "0   905  216   87   50\n",
       "1  1109  302  193  145\n",
       "2  1316  375  278  240\n",
       "3  1523  427  337  288\n",
       "4  1729  462  376  330"
      ]
     },
     "execution_count": 24,
     "metadata": {},
     "output_type": "execute_result"
    },
    {
     "name": "stdout",
     "output_type": "stream",
     "text": [
      "       vel  drag      x\n",
      "0    905.0  10.0  216.0\n",
      "1    905.0  20.0   87.0\n",
      "2    905.0  30.0   50.0\n",
      "3   1109.0  10.0  302.0\n",
      "4   1109.0  20.0  193.0\n",
      "5   1109.0  30.0  145.0\n",
      "6   1316.0  10.0  375.0\n",
      "7   1316.0  20.0  278.0\n",
      "8   1316.0  30.0  240.0\n",
      "9   1523.0  10.0  427.0\n",
      "10  1523.0  20.0  337.0\n",
      "11  1523.0  30.0  288.0\n",
      "12  1729.0  10.0  462.0\n",
      "13  1729.0  20.0  376.0\n",
      "14  1729.0  30.0  330.0\n",
      "15  1892.0  10.0  520.0\n",
      "16  1892.0  20.0  406.0\n",
      "17  1892.0  30.0  290.0\n"
     ]
    },
    {
     "data": {
      "text/plain": [
       "vel     float64\n",
       "drag    float64\n",
       "x       float64\n",
       "dtype: object"
      ]
     },
     "execution_count": 24,
     "metadata": {},
     "output_type": "execute_result"
    }
   ],
   "source": [
    "\n",
    "# Load the CSV file\n",
    "data = pd.read_csv('drag_traj5.csv')\n",
    "\n",
    "# Extract the matrix of data\n",
    "matrix = data.values\n",
    "\n",
    "data.head()\n",
    "\n",
    "# Pivot the DataFrame\n",
    "data = data.melt(id_vars=['vel'], var_name='drag', value_name='x').astype('float64').dropna(axis= 0, how='any')\n",
    "\n",
    "# Sort the DataFrame by 'foo' column\n",
    "data.sort_values(['vel','drag'], ignore_index=True, inplace=True)\n",
    "\n",
    "#pivoted_df = pivoted_df.dropna(subset=['c_l'])\n",
    "\n",
    "# Display the pivoted DataFrame\n",
    "print(data)\n",
    "data.dtypes"
   ]
  },
  {
   "cell_type": "code",
   "execution_count": 25,
   "id": "a02f739c-57d7-4d5c-8ac1-81aeaddf285c",
   "metadata": {},
   "outputs": [
    {
     "data": {
      "text/plain": [
       "<mpl_toolkits.mplot3d.art3d.Poly3DCollection at 0x14a85202108>"
      ]
     },
     "execution_count": 25,
     "metadata": {},
     "output_type": "execute_result"
    },
    {
     "data": {
      "text/plain": [
       "Text(0.5, 0, 'X')"
      ]
     },
     "execution_count": 25,
     "metadata": {},
     "output_type": "execute_result"
    },
    {
     "data": {
      "text/plain": [
       "Text(0.5, 0.5, 'vel')"
      ]
     },
     "execution_count": 25,
     "metadata": {},
     "output_type": "execute_result"
    },
    {
     "data": {
      "text/plain": [
       "Text(0.5, 0, 'drag')"
      ]
     },
     "execution_count": 25,
     "metadata": {},
     "output_type": "execute_result"
    },
    {
     "data": {
      "text/plain": [
       "Text(0.5, 0.92, 'traj')"
      ]
     },
     "execution_count": 25,
     "metadata": {},
     "output_type": "execute_result"
    },
    {
     "data": {
      "image/png": "[encoded data removed]",
      "text/plain": [
       "<Figure size 640x480 with 1 Axes>"
      ]
     },
     "metadata": {},
     "output_type": "display_data"
    }
   ],
   "source": [
    "# Reshape the DataFrame into a pivot table\n",
    "pivot_table = data.pivot(index='vel', columns='drag', values='x')\n",
    "\n",
    "# Convert the data to a 2D numpy array\n",
    "X = pivot_table.values\n",
    "\n",
    "\n",
    "# Create the X and Y coordinate grids\n",
    "D, V = np.meshgrid(pivot_table.columns, pivot_table.index)\n",
    "\n",
    "\n",
    "# Create a 3D surface plot\n",
    "fig = plt.figure()\n",
    "ax = fig.add_subplot(111, projection='3d')\n",
    "\n",
    "# Plot the surface, ignoring NaN values\n",
    "ax.plot_surface(X, V, D, cmap='viridis')\n",
    "\n",
    "# Set labels and title\n",
    "ax.set_xlabel('X')\n",
    "ax.set_ylabel('vel')\n",
    "ax.set_zlabel('drag')\n",
    "ax.set_title('traj')\n",
    "\n",
    "\n",
    "ax.invert_xaxis()\n",
    "\n",
    "ax.view_init(90, 90)\n",
    "\n",
    "# Show the plot\n",
    "plt.show()"
   ]
  },
  {
   "cell_type": "code",
   "execution_count": 26,
   "id": "ad56af6d-3c17-4de9-9e15-a86118560860",
   "metadata": {},
   "outputs": [
    {
     "data": {
      "text/plain": [
       "LinearRegression()"
      ]
     },
     "execution_count": 26,
     "metadata": {},
     "output_type": "execute_result"
    },
    {
     "data": {
      "text/plain": [
       "<mpl_toolkits.mplot3d.art3d.Poly3DCollection at 0x14a8529d988>"
      ]
     },
     "execution_count": 26,
     "metadata": {},
     "output_type": "execute_result"
    },
    {
     "data": {
      "text/plain": [
       "Text(0.5, 0, 'X_pred')"
      ]
     },
     "execution_count": 26,
     "metadata": {},
     "output_type": "execute_result"
    },
    {
     "data": {
      "text/plain": [
       "Text(0.5, 0.5, 'vel')"
      ]
     },
     "execution_count": 26,
     "metadata": {},
     "output_type": "execute_result"
    },
    {
     "data": {
      "text/plain": [
       "Text(0.5, 0, 'drag')"
      ]
     },
     "execution_count": 26,
     "metadata": {},
     "output_type": "execute_result"
    },
    {
     "data": {
      "text/plain": [
       "Text(0.5, 0.92, 'traj')"
      ]
     },
     "execution_count": 26,
     "metadata": {},
     "output_type": "execute_result"
    },
    {
     "data": {
      "image/png": "[encoded data removed]",
      "text/plain": [
       "<Figure size 640x480 with 1 Axes>"
      ]
     },
     "metadata": {},
     "output_type": "display_data"
    }
   ],
   "source": [
    "# Flatten the X, Y, and Z arrays\n",
    "X_flat = X.flatten()\n",
    "V_flat = V.flatten()\n",
    "D_flat = D.flatten()\n",
    "\n",
    "\n",
    "degree = 2  # Set the degree of the polynomial\n",
    "poly_features = PolynomialFeatures(degree=degree, interaction_only=False)\n",
    "VD_poly = poly_features.fit_transform(np.column_stack((V_flat, D_flat)))\n",
    "\n",
    "# Perform polynomial regression\n",
    "model = LinearRegression()\n",
    "model.fit(VD_poly, X_flat)\n",
    "\n",
    "# Generate predictions for the grid points\n",
    "X_pred = model.predict(VD_poly)\n",
    "\n",
    "# Reshape the predicted values back to a 2D array\n",
    "X_pred = X_pred.reshape(X.shape)\n",
    "\n",
    "\n",
    "\n",
    "# Create a 3D surface plot\n",
    "fig = plt.figure()\n",
    "ax = fig.add_subplot(111, projection='3d')\n",
    "\n",
    "# Plot the surface, ignoring NaN values\n",
    "ax.plot_surface(X_pred, V, D, cmap='viridis')\n",
    "\n",
    "# Set labels and title\n",
    "ax.set_xlabel('X_pred')\n",
    "ax.set_ylabel('vel')\n",
    "ax.set_zlabel('drag')\n",
    "ax.set_title('traj')\n",
    "\n",
    "\n",
    "ax.invert_xaxis()\n",
    "\n",
    "ax.view_init(90, 90)\n",
    "\n",
    "# Show the plot\n",
    "plt.show()"
   ]
  },
  {
   "cell_type": "code",
   "execution_count": 27,
   "id": "aff0d0ce-6725-4fa3-9d2c-94d88c996474",
   "metadata": {},
   "outputs": [
    {
     "name": "stdout",
     "output_type": "stream",
     "text": [
      "Equation for the model prediction:\n",
      "x = -365.6282303867932 + 1.0003973495016918 * vel^1 * drag^0 + -15.409853981961241 * vel^0 * drag^1 + -0.00024196873768544958 * vel^2 * drag^0 + -0.0016156332438259542 * vel^1 * drag^1 + 0.24249999999981453 * vel^0 * drag^2\n",
      "Equation in python form:\n",
      "x = -365.6282303867932 + 1.0003973495016918 * vel**1 * drag**0 + -15.409853981961241 * vel**0 * drag**1 + -0.00024196873768544958 * vel**2 * drag**0 + -0.0016156332438259542 * vel**1 * drag**1 + 0.24249999999981453 * vel**0 * drag**2\n"
     ]
    }
   ],
   "source": [
    "# Retrieve the coefficients from the trained model\n",
    "coef = model.coef_\n",
    "intercept = model.intercept_\n",
    "\n",
    "# Define the equation for the prediction\n",
    "equation = f\"x = {intercept}\"\n",
    "\n",
    "for i, c in enumerate(coef[1:], start=1):\n",
    "    power = poly_features.powers_[i]\n",
    "    equation += f\" + {c} * vel^{power[0]} * drag^{power[1]}\"\n",
    "\n",
    "print(\"Equation for the model prediction:\")\n",
    "print(equation)\n",
    "print(\"Equation in python form:\")\n",
    "print(equation.replace('^','**'))"
   ]
  },
  {
   "cell_type": "code",
   "execution_count": 28,
   "id": "4f0b5e25-60b0-4958-8be5-62912b0047c2",
   "metadata": {},
   "outputs": [],
   "source": [
    "def trajplot_x_vd(vel, drag):\n",
    "    x = -232.2418634360448 + 0.8634282673851585 * vel**1 * drag**0 + -20.859660638014855 * vel**0 * drag**1 + -0.0002166827808686156 * vel**2 * drag**0 + 0.0020778810276278776 * vel**1 * drag**1 + 0.27083333333317644 * vel**0 * drag**2\n",
    "    \n",
    "    return x"
   ]
  },
  {
   "cell_type": "code",
   "execution_count": 29,
   "id": "11034e78-64cd-43ab-8ac9-30b82e80a4d9",
   "metadata": {},
   "outputs": [
    {
     "data": {
      "text/plain": [
       "<mpl_toolkits.mplot3d.art3d.Poly3DCollection at 0x14a85365488>"
      ]
     },
     "execution_count": 29,
     "metadata": {},
     "output_type": "execute_result"
    },
    {
     "data": {
      "text/plain": [
       "Text(0.5, 0, 'X_pred')"
      ]
     },
     "execution_count": 29,
     "metadata": {},
     "output_type": "execute_result"
    },
    {
     "data": {
      "text/plain": [
       "Text(0.5, 0.5, 'vel')"
      ]
     },
     "execution_count": 29,
     "metadata": {},
     "output_type": "execute_result"
    },
    {
     "data": {
      "text/plain": [
       "Text(0.5, 0, 'drag')"
      ]
     },
     "execution_count": 29,
     "metadata": {},
     "output_type": "execute_result"
    },
    {
     "data": {
      "text/plain": [
       "Text(0.5, 0.92, 'traj')"
      ]
     },
     "execution_count": 29,
     "metadata": {},
     "output_type": "execute_result"
    },
    {
     "data": {
      "image/png": "[encoded data removed]",
      "text/plain": [
       "<Figure size 640x480 with 1 Axes>"
      ]
     },
     "metadata": {},
     "output_type": "display_data"
    }
   ],
   "source": [
    "# Generate predictions for the grid points\n",
    "V_ext = np.linspace(5000, 8000, 100)\n",
    "D_ext = np.linspace(0, 50, 100)\n",
    "V_ext, D_ext = np.meshgrid(V_ext, D_ext)\n",
    "X_pred_ext = trajplot_x_vd(V_ext, D_ext)\n",
    "\n",
    "# Reshape the predicted values back to a 2D array\n",
    "X_pred_ext = X_pred_ext.reshape(V_ext.shape)\n",
    "\n",
    "\n",
    "\n",
    "# Create a 3D surface plot\n",
    "fig = plt.figure()\n",
    "ax = fig.add_subplot(111, projection='3d')\n",
    "\n",
    "# Plot the surface, ignoring NaN values\n",
    "ax.plot_surface(X_pred_ext, V_ext, D_ext, cmap='viridis')\n",
    "\n",
    "# Set labels and title\n",
    "ax.set_xlabel('X_pred')\n",
    "ax.set_ylabel('vel')\n",
    "ax.set_zlabel('drag')\n",
    "ax.set_title('traj')\n",
    "\n",
    "\n",
    "ax.invert_xaxis()\n",
    "\n",
    "ax.view_init(90, 90)\n",
    "\n",
    "# Show the plot\n",
    "plt.show()"
   ]
  },
  {
   "cell_type": "code",
   "execution_count": 30,
   "id": "bfa41fea-aecb-4b2a-b29d-d12cf198ef82",
   "metadata": {},
   "outputs": [
    {
     "data": {
      "text/plain": [
       "[<matplotlib.lines.Line2D at 0x14a8449ab48>]"
      ]
     },
     "execution_count": 30,
     "metadata": {},
     "output_type": "execute_result"
    },
    {
     "data": {
      "text/plain": [
       "[<matplotlib.lines.Line2D at 0x14a841b3cc8>]"
      ]
     },
     "execution_count": 30,
     "metadata": {},
     "output_type": "execute_result"
    },
    {
     "data": {
      "text/plain": [
       "[<matplotlib.lines.Line2D at 0x14a841d8c88>]"
      ]
     },
     "execution_count": 30,
     "metadata": {},
     "output_type": "execute_result"
    },
    {
     "data": {
      "text/plain": [
       "[<matplotlib.lines.Line2D at 0x14a83b5b488>]"
      ]
     },
     "execution_count": 30,
     "metadata": {},
     "output_type": "execute_result"
    },
    {
     "data": {
      "text/plain": [
       "[<matplotlib.lines.Line2D at 0x14a85806888>]"
      ]
     },
     "execution_count": 30,
     "metadata": {},
     "output_type": "execute_result"
    },
    {
     "data": {
      "text/plain": [
       "[<matplotlib.lines.Line2D at 0x14a84b3f748>]"
      ]
     },
     "execution_count": 30,
     "metadata": {},
     "output_type": "execute_result"
    },
    {
     "data": {
      "text/plain": [
       "(0.0, 500.0)"
      ]
     },
     "execution_count": 30,
     "metadata": {},
     "output_type": "execute_result"
    },
    {
     "data": {
      "text/plain": [
       "(5000.0, 8000.0)"
      ]
     },
     "execution_count": 30,
     "metadata": {},
     "output_type": "execute_result"
    },
    {
     "data": {
      "image/png": "[encoded data removed]",
      "text/plain": [
       "<Figure size 640x480 with 1 Axes>"
      ]
     },
     "metadata": {},
     "output_type": "display_data"
    }
   ],
   "source": [
    "V_ext = np.linspace(5000, 8000, 100)\n",
    "\n",
    "fig = plt.figure()\n",
    "plt.plot(trajplot_x_vd(V_ext, 5), V_ext)\n",
    "plt.plot(trajplot_x_vd(V_ext, 10), V_ext)\n",
    "plt.plot(trajplot_x_vd(V_ext, 15), V_ext)\n",
    "plt.plot(trajplot_x_vd(V_ext, 20), V_ext)\n",
    "plt.plot(trajplot_x_vd(V_ext, 25), V_ext)\n",
    "plt.plot(trajplot_x_vd(V_ext, 30), V_ext)\n",
    "#plt.plot(trajplot_x_vd(V_ext, 40), V_ext)\n",
    "\n",
    "plt.xlim([0, 500])\n",
    "plt.ylim([5000, 8000])\n",
    "\n",
    "\n",
    "\n",
    "    "
   ]
  }
 ],
 "metadata": {
  "kernelspec": {
   "display_name": "Python 3 (ipykernel)",
   "language": "python",
   "name": "python3"
  },
  "language_info": {
   "codemirror_mode": {
    "name": "ipython",
    "version": 3
   },
   "file_extension": ".py",
   "mimetype": "text/x-python",
   "name": "python",
   "nbconvert_exporter": "python",
   "pygments_lexer": "ipython3",
   "version": "3.7.9"
  }
 },
 "nbformat": 4,
 "nbformat_minor": 5
}
