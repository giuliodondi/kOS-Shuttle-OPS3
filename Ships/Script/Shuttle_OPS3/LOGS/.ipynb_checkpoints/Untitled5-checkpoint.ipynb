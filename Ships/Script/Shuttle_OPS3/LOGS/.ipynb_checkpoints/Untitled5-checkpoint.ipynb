{
 "cells": [
  {
   "cell_type": "code",
   "execution_count": 6,
   "id": "b029f64c",
   "metadata": {},
   "outputs": [],
   "source": [
    "from IPython.core.interactiveshell import InteractiveShell\n",
    "InteractiveShell.ast_node_interactivity = \"all\"\n",
    "\n",
    "import numpy as np\n",
    "import math\n",
    "import os\n",
    "import pandas as pd\n",
    "import matplotlib.pyplot as plt\n",
    "from mpl_toolkits.mplot3d import axes3d  \n",
    "\n",
    "import plotly.graph_objects as go\n",
    "import plotly.io as pio\n",
    "pio.renderers.default = 'iframe' # or 'colab' or 'iframe' or 'iframe_connected' or 'sphinx_gallery'\n",
    "from math import log2, radians, cos, sqrt\n",
    "\n",
    "pd.options.display.max_rows = 4000\n",
    "\n",
    "from matplotlib.colors import ListedColormap"
   ]
  },
  {
   "cell_type": "code",
   "execution_count": 7,
   "id": "5c440130",
   "metadata": {},
   "outputs": [],
   "source": [
    "def midval(a, b, c):\n",
    "    maxx = max(max(a,b), c)\n",
    "    minn = min(min(a, b), c)\n",
    "    \n",
    "    return a + b + c - maxx - minn"
   ]
  },
  {
   "cell_type": "code",
   "execution_count": 8,
   "id": "4922e190",
   "metadata": {},
   "outputs": [],
   "source": [
    "def alpul(m):\n",
    "    alpulc1 = 3.4637\n",
    "    alpulc2=9.2353\n",
    "    alpulc3=13.7\n",
    "    alpulc4=17.8\n",
    "    \n",
    "    return midval(alpulc1 * m + alpulc2, alpulc3, alpulc4)\n",
    "    \n",
    "def alpll(m):\n",
    "    alpllcm1=1.3\n",
    "    alpllcm2=2.25\n",
    "    alpllc1=1.4706\n",
    "    alpllc2=1.5904 - 2.6\n",
    "    alpllc3=2.3918\n",
    "    alpllc4=0.4127 - 2.6\n",
    "    alpllc5=4.84\n",
    "    alpllc6=-5.1031 - 2.6\n",
    "    alpllc7=7.5\n",
    "    alpllc8=2.6  - 2.6\n",
    "    \n",
    "    if (m < alpllcm1):\n",
    "        return midval(alpllc1 * m + alpllc2, alpllc7, alpllc8)\n",
    "    elif (m < alpllcm2):\n",
    "        return midval(alpllc3 * m + alpllc4, alpllc7, alpllc8)\n",
    "    else:\n",
    "        return midval(alpllc5 * m + alpllc6, alpllc7, alpllc8)\n",
    "\n"
   ]
  },
  {
   "cell_type": "code",
   "execution_count": 9,
   "id": "50a6bf9a",
   "metadata": {},
   "outputs": [
    {
     "data": {
      "text/plain": [
       "[<matplotlib.lines.Line2D at 0x233af8befc8>]"
      ]
     },
     "execution_count": 9,
     "metadata": {},
     "output_type": "execute_result"
    },
    {
     "data": {
      "text/plain": [
       "[<matplotlib.lines.Line2D at 0x233af886988>]"
      ]
     },
     "execution_count": 9,
     "metadata": {},
     "output_type": "execute_result"
    },
    {
     "data": {
      "image/png": "[encoded data removed]",
      "text/plain": [
       "<Figure size 640x480 with 1 Axes>"
      ]
     },
     "metadata": {},
     "output_type": "display_data"
    }
   ],
   "source": [
    "m_ = np.linspace(0, 4, 1000)\n",
    "\n",
    "alpul_ = [alpul(m) for m in m_]\n",
    "alpll_ = [alpll(m) for m in m_]\n",
    "\n",
    "plt.plot(m_, alpul_)\n",
    "plt.plot(m_, alpll_)"
   ]
  },
  {
   "cell_type": "code",
   "execution_count": null,
   "id": "cad29794",
   "metadata": {},
   "outputs": [],
   "source": []
  },
  {
   "cell_type": "code",
   "execution_count": null,
   "id": "91fb4d3b",
   "metadata": {},
   "outputs": [],
   "source": []
  },
  {
   "cell_type": "code",
   "execution_count": null,
   "id": "aeb078bb",
   "metadata": {},
   "outputs": [],
   "source": []
  }
 ],
 "metadata": {
  "kernelspec": {
   "display_name": "Python 3 (ipykernel)",
   "language": "python",
   "name": "python3"
  },
  "language_info": {
   "codemirror_mode": {
    "name": "ipython",
    "version": 3
   },
   "file_extension": ".py",
   "mimetype": "text/x-python",
   "name": "python",
   "nbconvert_exporter": "python",
   "pygments_lexer": "ipython3",
   "version": "3.7.9"
  }
 },
 "nbformat": 4,
 "nbformat_minor": 5
}
