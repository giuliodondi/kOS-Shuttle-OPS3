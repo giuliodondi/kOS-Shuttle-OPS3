{
 "cells": [
  {
   "cell_type": "code",
   "execution_count": 1,
   "id": "6d962935",
   "metadata": {},
   "outputs": [],
   "source": [
    "import numpy as np\n",
    "import math\n",
    "import pandas as pd\n",
    "import matplotlib.pyplot as plt"
   ]
  },
  {
   "cell_type": "code",
   "execution_count": 137,
   "id": "014ac225",
   "metadata": {},
   "outputs": [],
   "source": [
    "const = {}\n",
    "\n",
    "const[\"valp\"] = [0, 500, 7500, 8500, 18000, 19000, 22000, 23000]\n",
    "const[\"calp0\"] = [3, 1.333333, -92.4166, 28, 433 , -18.25, -623.25, 38]\n",
    "const[\"calp1\"] = [0, 3.333333e-3, 0.0283333, 0, -0.045, 2.5e-3, 0.0575, 0]\n",
    "const[\"calp2\"] = [0, 0, -1.66667e-6, 0, -1.25e-6, 0, -1.25e-6, 0]\n"
   ]
  },
  {
   "cell_type": "code",
   "execution_count": 138,
   "id": "156a93a2",
   "metadata": {},
   "outputs": [],
   "source": [
    "def egalpcmd(ve):\n",
    "    \n",
    "    ialp = 7\n",
    "    \n",
    "    alpcmd=np.empty(ve.size, dtype=object)\n",
    "    \n",
    "    for i, v in enumerate(ve):\n",
    "        if (v < const[\"valp\"][ialp] and ialp > 0):\n",
    "            print(v, ialp)\n",
    "            ialp = ialp - 1\n",
    "\n",
    "\n",
    "        alpcmd[i] = const[\"calp0\"][ialp] +  v*const[\"calp1\"][ialp] +  v**2*const[\"calp2\"][ialp]\n",
    "    \n",
    "    return alpcmd"
   ]
  },
  {
   "cell_type": "code",
   "execution_count": 139,
   "id": "7f19961d",
   "metadata": {},
   "outputs": [
    {
     "name": "stdout",
     "output_type": "stream",
     "text": [
      "22990 7\n",
      "21990 6\n",
      "18990 5\n",
      "17990 4\n",
      "8490 3\n",
      "7490 2\n",
      "490 1\n",
      "[38 38 38 ... 3 3 3]\n"
     ]
    },
    {
     "data": {
      "text/plain": [
       "[<matplotlib.lines.Line2D at 0x1ce0fb81c88>]"
      ]
     },
     "execution_count": 139,
     "metadata": {},
     "output_type": "execute_result"
    },
    {
     "data": {
      "image/png": "[encoded data removed]",
      "text/plain": [
       "<Figure size 640x480 with 1 Axes>"
      ]
     },
     "metadata": {},
     "output_type": "display_data"
    }
   ],
   "source": [
    "ialp = 9\n",
    "\n",
    "ve = np.arange(28000, 0, -10)\n",
    "\n",
    "\n",
    "alpcmd = egalpcmd(ve)\n",
    "\n",
    "print(alpcmd)\n",
    "\n",
    "plt.plot(ve, alpcmd)"
   ]
  },
  {
   "cell_type": "code",
   "execution_count": null,
   "id": "fd1812f2",
   "metadata": {},
   "outputs": [],
   "source": []
  }
 ],
 "metadata": {
  "kernelspec": {
   "display_name": "Python 3 (ipykernel)",
   "language": "python",
   "name": "python3"
  },
  "language_info": {
   "codemirror_mode": {
    "name": "ipython",
    "version": 3
   },
   "file_extension": ".py",
   "mimetype": "text/x-python",
   "name": "python",
   "nbconvert_exporter": "python",
   "pygments_lexer": "ipython3",
   "version": "3.7.9"
  }
 },
 "nbformat": 4,
 "nbformat_minor": 5
}
