{
 "cells": [
  {
   "cell_type": "code",
   "execution_count": 135,
   "id": "10043f27",
   "metadata": {
    "scrolled": false
   },
   "outputs": [],
   "source": [
    "from IPython.core.interactiveshell import InteractiveShell\n",
    "InteractiveShell.ast_node_interactivity = \"all\""
   ]
  },
  {
   "cell_type": "code",
   "execution_count": 136,
   "id": "2331d0e1",
   "metadata": {
    "scrolled": false
   },
   "outputs": [],
   "source": [
    "from platform import python_version"
   ]
  },
  {
   "cell_type": "code",
   "execution_count": 137,
   "id": "3cb1f6c7",
   "metadata": {
    "scrolled": false
   },
   "outputs": [
    {
     "data": {
      "text/plain": [
       "'3.7.9'"
      ]
     },
     "execution_count": 137,
     "metadata": {},
     "output_type": "execute_result"
    }
   ],
   "source": [
    "python_version()"
   ]
  },
  {
   "cell_type": "code",
   "execution_count": 138,
   "id": "76ae2223",
   "metadata": {
    "scrolled": false
   },
   "outputs": [],
   "source": [
    "import numpy as np\n",
    "import math\n",
    "import pandas as pd\n",
    "import matplotlib.pyplot as plt\n",
    "from mpl_toolkits.mplot3d import axes3d  \n",
    "\n",
    "from matplotlib.colors import ListedColormap"
   ]
  },
  {
   "cell_type": "code",
   "execution_count": 139,
   "id": "528f9eab",
   "metadata": {
    "scrolled": false
   },
   "outputs": [],
   "source": [
    "entry_phase_color_map_val = [1, 2, 3, 4, 5]\n",
    "entry_phase_color_map = ListedColormap(['red', 'green', 'blue', 'orange', 'purple'])"
   ]
  },
  {
   "cell_type": "code",
   "execution_count": 140,
   "id": "afbdb04b",
   "metadata": {
    "scrolled": false
   },
   "outputs": [
    {
     "ename": "KeyError",
     "evalue": "0",
     "output_type": "error",
     "traceback": [
      "\u001b[1;31m---------------------------------------------------------------------------\u001b[0m",
      "\u001b[1;31mKeyError\u001b[0m                                  Traceback (most recent call last)",
      "\u001b[1;32m~\\AppData\\Local\\Packages\\PythonSoftwareFoundation.Python.3.7_qbz5n2kfra8p0\\LocalCache\\local-packages\\Python37\\site-packages\\pandas\\core\\indexes\\base.py\u001b[0m in \u001b[0;36mget_loc\u001b[1;34m(self, key, method, tolerance)\u001b[0m\n\u001b[0;32m   3360\u001b[0m             \u001b[1;32mtry\u001b[0m\u001b[1;33m:\u001b[0m\u001b[1;33m\u001b[0m\u001b[1;33m\u001b[0m\u001b[0m\n\u001b[1;32m-> 3361\u001b[1;33m                 \u001b[1;32mreturn\u001b[0m \u001b[0mself\u001b[0m\u001b[1;33m.\u001b[0m\u001b[0m_engine\u001b[0m\u001b[1;33m.\u001b[0m\u001b[0mget_loc\u001b[0m\u001b[1;33m(\u001b[0m\u001b[0mcasted_key\u001b[0m\u001b[1;33m)\u001b[0m\u001b[1;33m\u001b[0m\u001b[1;33m\u001b[0m\u001b[0m\n\u001b[0m\u001b[0;32m   3362\u001b[0m             \u001b[1;32mexcept\u001b[0m \u001b[0mKeyError\u001b[0m \u001b[1;32mas\u001b[0m \u001b[0merr\u001b[0m\u001b[1;33m:\u001b[0m\u001b[1;33m\u001b[0m\u001b[1;33m\u001b[0m\u001b[0m\n",
      "\u001b[1;32m~\\AppData\\Local\\Packages\\PythonSoftwareFoundation.Python.3.7_qbz5n2kfra8p0\\LocalCache\\local-packages\\Python37\\site-packages\\pandas\\_libs\\index.pyx\u001b[0m in \u001b[0;36mpandas._libs.index.IndexEngine.get_loc\u001b[1;34m()\u001b[0m\n",
      "\u001b[1;32m~\\AppData\\Local\\Packages\\PythonSoftwareFoundation.Python.3.7_qbz5n2kfra8p0\\LocalCache\\local-packages\\Python37\\site-packages\\pandas\\_libs\\index.pyx\u001b[0m in \u001b[0;36mpandas._libs.index.IndexEngine.get_loc\u001b[1;34m()\u001b[0m\n",
      "\u001b[1;32mpandas\\_libs\\hashtable_class_helper.pxi\u001b[0m in \u001b[0;36mpandas._libs.hashtable.Int64HashTable.get_item\u001b[1;34m()\u001b[0m\n",
      "\u001b[1;32mpandas\\_libs\\hashtable_class_helper.pxi\u001b[0m in \u001b[0;36mpandas._libs.hashtable.Int64HashTable.get_item\u001b[1;34m()\u001b[0m\n",
      "\u001b[1;31mKeyError\u001b[0m: 0",
      "\nThe above exception was the direct cause of the following exception:\n",
      "\u001b[1;31mKeyError\u001b[0m                                  Traceback (most recent call last)",
      "\u001b[1;32m~\\AppData\\Local\\Temp\\ipykernel_11836\\43011003.py\u001b[0m in \u001b[0;36m<module>\u001b[1;34m\u001b[0m\n\u001b[0;32m      3\u001b[0m \u001b[0mdata\u001b[0m \u001b[1;33m=\u001b[0m \u001b[0mpd\u001b[0m\u001b[1;33m.\u001b[0m\u001b[0mread_csv\u001b[0m\u001b[1;33m(\u001b[0m\u001b[1;34m'sim_log_Istres.csv'\u001b[0m\u001b[1;33m)\u001b[0m\u001b[1;33m\u001b[0m\u001b[1;33m\u001b[0m\u001b[0m\n\u001b[0;32m      4\u001b[0m \u001b[1;33m\u001b[0m\u001b[0m\n\u001b[1;32m----> 5\u001b[1;33m \u001b[0mdata\u001b[0m\u001b[1;33m[\u001b[0m\u001b[1;34m'time'\u001b[0m\u001b[1;33m]\u001b[0m \u001b[1;33m=\u001b[0m \u001b[0mdata\u001b[0m\u001b[1;33m[\u001b[0m\u001b[1;34m'time'\u001b[0m\u001b[1;33m]\u001b[0m \u001b[1;33m-\u001b[0m \u001b[0mdata\u001b[0m\u001b[1;33m[\u001b[0m\u001b[1;34m'time'\u001b[0m\u001b[1;33m]\u001b[0m\u001b[1;33m[\u001b[0m\u001b[1;36m0\u001b[0m\u001b[1;33m]\u001b[0m\u001b[1;33m\u001b[0m\u001b[1;33m\u001b[0m\u001b[0m\n\u001b[0m\u001b[0;32m      6\u001b[0m \u001b[1;33m\u001b[0m\u001b[0m\n\u001b[0;32m      7\u001b[0m \u001b[0mdata\u001b[0m\u001b[1;33m.\u001b[0m\u001b[0mhead\u001b[0m\u001b[1;33m(\u001b[0m\u001b[1;33m)\u001b[0m\u001b[1;33m\u001b[0m\u001b[1;33m\u001b[0m\u001b[0m\n",
      "\u001b[1;32m~\\AppData\\Local\\Packages\\PythonSoftwareFoundation.Python.3.7_qbz5n2kfra8p0\\LocalCache\\local-packages\\Python37\\site-packages\\pandas\\core\\series.py\u001b[0m in \u001b[0;36m__getitem__\u001b[1;34m(self, key)\u001b[0m\n\u001b[0;32m    940\u001b[0m \u001b[1;33m\u001b[0m\u001b[0m\n\u001b[0;32m    941\u001b[0m         \u001b[1;32melif\u001b[0m \u001b[0mkey_is_scalar\u001b[0m\u001b[1;33m:\u001b[0m\u001b[1;33m\u001b[0m\u001b[1;33m\u001b[0m\u001b[0m\n\u001b[1;32m--> 942\u001b[1;33m             \u001b[1;32mreturn\u001b[0m \u001b[0mself\u001b[0m\u001b[1;33m.\u001b[0m\u001b[0m_get_value\u001b[0m\u001b[1;33m(\u001b[0m\u001b[0mkey\u001b[0m\u001b[1;33m)\u001b[0m\u001b[1;33m\u001b[0m\u001b[1;33m\u001b[0m\u001b[0m\n\u001b[0m\u001b[0;32m    943\u001b[0m \u001b[1;33m\u001b[0m\u001b[0m\n\u001b[0;32m    944\u001b[0m         \u001b[1;32mif\u001b[0m \u001b[0mis_hashable\u001b[0m\u001b[1;33m(\u001b[0m\u001b[0mkey\u001b[0m\u001b[1;33m)\u001b[0m\u001b[1;33m:\u001b[0m\u001b[1;33m\u001b[0m\u001b[1;33m\u001b[0m\u001b[0m\n",
      "\u001b[1;32m~\\AppData\\Local\\Packages\\PythonSoftwareFoundation.Python.3.7_qbz5n2kfra8p0\\LocalCache\\local-packages\\Python37\\site-packages\\pandas\\core\\series.py\u001b[0m in \u001b[0;36m_get_value\u001b[1;34m(self, label, takeable)\u001b[0m\n\u001b[0;32m   1049\u001b[0m \u001b[1;33m\u001b[0m\u001b[0m\n\u001b[0;32m   1050\u001b[0m         \u001b[1;31m# Similar to Index.get_value, but we do not fall back to positional\u001b[0m\u001b[1;33m\u001b[0m\u001b[1;33m\u001b[0m\u001b[1;33m\u001b[0m\u001b[0m\n\u001b[1;32m-> 1051\u001b[1;33m         \u001b[0mloc\u001b[0m \u001b[1;33m=\u001b[0m \u001b[0mself\u001b[0m\u001b[1;33m.\u001b[0m\u001b[0mindex\u001b[0m\u001b[1;33m.\u001b[0m\u001b[0mget_loc\u001b[0m\u001b[1;33m(\u001b[0m\u001b[0mlabel\u001b[0m\u001b[1;33m)\u001b[0m\u001b[1;33m\u001b[0m\u001b[1;33m\u001b[0m\u001b[0m\n\u001b[0m\u001b[0;32m   1052\u001b[0m         \u001b[1;32mreturn\u001b[0m \u001b[0mself\u001b[0m\u001b[1;33m.\u001b[0m\u001b[0mindex\u001b[0m\u001b[1;33m.\u001b[0m\u001b[0m_get_values_for_loc\u001b[0m\u001b[1;33m(\u001b[0m\u001b[0mself\u001b[0m\u001b[1;33m,\u001b[0m \u001b[0mloc\u001b[0m\u001b[1;33m,\u001b[0m \u001b[0mlabel\u001b[0m\u001b[1;33m)\u001b[0m\u001b[1;33m\u001b[0m\u001b[1;33m\u001b[0m\u001b[0m\n\u001b[0;32m   1053\u001b[0m \u001b[1;33m\u001b[0m\u001b[0m\n",
      "\u001b[1;32m~\\AppData\\Local\\Packages\\PythonSoftwareFoundation.Python.3.7_qbz5n2kfra8p0\\LocalCache\\local-packages\\Python37\\site-packages\\pandas\\core\\indexes\\multi.py\u001b[0m in \u001b[0;36mget_loc\u001b[1;34m(self, key, method)\u001b[0m\n\u001b[0;32m   2920\u001b[0m \u001b[1;33m\u001b[0m\u001b[0m\n\u001b[0;32m   2921\u001b[0m         \u001b[1;32mif\u001b[0m \u001b[1;32mnot\u001b[0m \u001b[0misinstance\u001b[0m\u001b[1;33m(\u001b[0m\u001b[0mkey\u001b[0m\u001b[1;33m,\u001b[0m \u001b[0mtuple\u001b[0m\u001b[1;33m)\u001b[0m\u001b[1;33m:\u001b[0m\u001b[1;33m\u001b[0m\u001b[1;33m\u001b[0m\u001b[0m\n\u001b[1;32m-> 2922\u001b[1;33m             \u001b[0mloc\u001b[0m \u001b[1;33m=\u001b[0m \u001b[0mself\u001b[0m\u001b[1;33m.\u001b[0m\u001b[0m_get_level_indexer\u001b[0m\u001b[1;33m(\u001b[0m\u001b[0mkey\u001b[0m\u001b[1;33m,\u001b[0m \u001b[0mlevel\u001b[0m\u001b[1;33m=\u001b[0m\u001b[1;36m0\u001b[0m\u001b[1;33m)\u001b[0m\u001b[1;33m\u001b[0m\u001b[1;33m\u001b[0m\u001b[0m\n\u001b[0m\u001b[0;32m   2923\u001b[0m             \u001b[1;32mreturn\u001b[0m \u001b[0m_maybe_to_slice\u001b[0m\u001b[1;33m(\u001b[0m\u001b[0mloc\u001b[0m\u001b[1;33m)\u001b[0m\u001b[1;33m\u001b[0m\u001b[1;33m\u001b[0m\u001b[0m\n\u001b[0;32m   2924\u001b[0m \u001b[1;33m\u001b[0m\u001b[0m\n",
      "\u001b[1;32m~\\AppData\\Local\\Packages\\PythonSoftwareFoundation.Python.3.7_qbz5n2kfra8p0\\LocalCache\\local-packages\\Python37\\site-packages\\pandas\\core\\indexes\\multi.py\u001b[0m in \u001b[0;36m_get_level_indexer\u001b[1;34m(self, key, level, indexer)\u001b[0m\n\u001b[0;32m   3202\u001b[0m         \u001b[1;32melse\u001b[0m\u001b[1;33m:\u001b[0m\u001b[1;33m\u001b[0m\u001b[1;33m\u001b[0m\u001b[0m\n\u001b[0;32m   3203\u001b[0m \u001b[1;33m\u001b[0m\u001b[0m\n\u001b[1;32m-> 3204\u001b[1;33m             \u001b[0midx\u001b[0m \u001b[1;33m=\u001b[0m \u001b[0mself\u001b[0m\u001b[1;33m.\u001b[0m\u001b[0m_get_loc_single_level_index\u001b[0m\u001b[1;33m(\u001b[0m\u001b[0mlevel_index\u001b[0m\u001b[1;33m,\u001b[0m \u001b[0mkey\u001b[0m\u001b[1;33m)\u001b[0m\u001b[1;33m\u001b[0m\u001b[1;33m\u001b[0m\u001b[0m\n\u001b[0m\u001b[0;32m   3205\u001b[0m \u001b[1;33m\u001b[0m\u001b[0m\n\u001b[0;32m   3206\u001b[0m             \u001b[1;32mif\u001b[0m \u001b[0mlevel\u001b[0m \u001b[1;33m>\u001b[0m \u001b[1;36m0\u001b[0m \u001b[1;32mor\u001b[0m \u001b[0mself\u001b[0m\u001b[1;33m.\u001b[0m\u001b[0m_lexsort_depth\u001b[0m \u001b[1;33m==\u001b[0m \u001b[1;36m0\u001b[0m\u001b[1;33m:\u001b[0m\u001b[1;33m\u001b[0m\u001b[1;33m\u001b[0m\u001b[0m\n",
      "\u001b[1;32m~\\AppData\\Local\\Packages\\PythonSoftwareFoundation.Python.3.7_qbz5n2kfra8p0\\LocalCache\\local-packages\\Python37\\site-packages\\pandas\\core\\indexes\\multi.py\u001b[0m in \u001b[0;36m_get_loc_single_level_index\u001b[1;34m(self, level_index, key)\u001b[0m\n\u001b[0;32m   2853\u001b[0m             \u001b[1;32mreturn\u001b[0m \u001b[1;33m-\u001b[0m\u001b[1;36m1\u001b[0m\u001b[1;33m\u001b[0m\u001b[1;33m\u001b[0m\u001b[0m\n\u001b[0;32m   2854\u001b[0m         \u001b[1;32melse\u001b[0m\u001b[1;33m:\u001b[0m\u001b[1;33m\u001b[0m\u001b[1;33m\u001b[0m\u001b[0m\n\u001b[1;32m-> 2855\u001b[1;33m             \u001b[1;32mreturn\u001b[0m \u001b[0mlevel_index\u001b[0m\u001b[1;33m.\u001b[0m\u001b[0mget_loc\u001b[0m\u001b[1;33m(\u001b[0m\u001b[0mkey\u001b[0m\u001b[1;33m)\u001b[0m\u001b[1;33m\u001b[0m\u001b[1;33m\u001b[0m\u001b[0m\n\u001b[0m\u001b[0;32m   2856\u001b[0m \u001b[1;33m\u001b[0m\u001b[0m\n\u001b[0;32m   2857\u001b[0m     \u001b[1;32mdef\u001b[0m \u001b[0mget_loc\u001b[0m\u001b[1;33m(\u001b[0m\u001b[0mself\u001b[0m\u001b[1;33m,\u001b[0m \u001b[0mkey\u001b[0m\u001b[1;33m,\u001b[0m \u001b[0mmethod\u001b[0m\u001b[1;33m=\u001b[0m\u001b[1;32mNone\u001b[0m\u001b[1;33m)\u001b[0m\u001b[1;33m:\u001b[0m\u001b[1;33m\u001b[0m\u001b[1;33m\u001b[0m\u001b[0m\n",
      "\u001b[1;32m~\\AppData\\Local\\Packages\\PythonSoftwareFoundation.Python.3.7_qbz5n2kfra8p0\\LocalCache\\local-packages\\Python37\\site-packages\\pandas\\core\\indexes\\base.py\u001b[0m in \u001b[0;36mget_loc\u001b[1;34m(self, key, method, tolerance)\u001b[0m\n\u001b[0;32m   3361\u001b[0m                 \u001b[1;32mreturn\u001b[0m \u001b[0mself\u001b[0m\u001b[1;33m.\u001b[0m\u001b[0m_engine\u001b[0m\u001b[1;33m.\u001b[0m\u001b[0mget_loc\u001b[0m\u001b[1;33m(\u001b[0m\u001b[0mcasted_key\u001b[0m\u001b[1;33m)\u001b[0m\u001b[1;33m\u001b[0m\u001b[1;33m\u001b[0m\u001b[0m\n\u001b[0;32m   3362\u001b[0m             \u001b[1;32mexcept\u001b[0m \u001b[0mKeyError\u001b[0m \u001b[1;32mas\u001b[0m \u001b[0merr\u001b[0m\u001b[1;33m:\u001b[0m\u001b[1;33m\u001b[0m\u001b[1;33m\u001b[0m\u001b[0m\n\u001b[1;32m-> 3363\u001b[1;33m                 \u001b[1;32mraise\u001b[0m \u001b[0mKeyError\u001b[0m\u001b[1;33m(\u001b[0m\u001b[0mkey\u001b[0m\u001b[1;33m)\u001b[0m \u001b[1;32mfrom\u001b[0m \u001b[0merr\u001b[0m\u001b[1;33m\u001b[0m\u001b[1;33m\u001b[0m\u001b[0m\n\u001b[0m\u001b[0;32m   3364\u001b[0m \u001b[1;33m\u001b[0m\u001b[0m\n\u001b[0;32m   3365\u001b[0m         \u001b[1;32mif\u001b[0m \u001b[0mis_scalar\u001b[0m\u001b[1;33m(\u001b[0m\u001b[0mkey\u001b[0m\u001b[1;33m)\u001b[0m \u001b[1;32mand\u001b[0m \u001b[0misna\u001b[0m\u001b[1;33m(\u001b[0m\u001b[0mkey\u001b[0m\u001b[1;33m)\u001b[0m \u001b[1;32mand\u001b[0m \u001b[1;32mnot\u001b[0m \u001b[0mself\u001b[0m\u001b[1;33m.\u001b[0m\u001b[0mhasnans\u001b[0m\u001b[1;33m:\u001b[0m\u001b[1;33m\u001b[0m\u001b[1;33m\u001b[0m\u001b[0m\n",
      "\u001b[1;31mKeyError\u001b[0m: 0"
     ]
    }
   ],
   "source": [
    "#data = pd.read_csv('sim_log_Edwards.csv')\n",
    "#data = pd.read_csv('sim_log_Vandenberg.csv')\n",
    "data = pd.read_csv('sim_log_Istres.csv')\n",
    "\n",
    "data['time'] = data['time'] - data['time'][0]\n",
    "\n",
    "data.head()"
   ]
  },
  {
   "cell_type": "code",
   "execution_count": null,
   "id": "905eb2c8",
   "metadata": {
    "scrolled": false
   },
   "outputs": [],
   "source": [
    "def angle360(angle):\n",
    "    out = angle\n",
    "\n",
    "    while (out >= 360):\n",
    "        out -= 360\n",
    "    while (out < 0):\n",
    "        out += 360\n",
    "    return out\n",
    "\n",
    "def angle180(angle):\n",
    "    out = angle\n",
    "\n",
    "    while (out >= 180):\n",
    "        out -= 360\n",
    "    while (out < -180):\n",
    "        out += 360\n",
    "    return out"
   ]
  },
  {
   "cell_type": "code",
   "execution_count": null,
   "id": "4e52119d",
   "metadata": {
    "scrolled": false
   },
   "outputs": [],
   "source": [
    "import plotly.graph_objects as go\n",
    "from math import log2, radians, cos, sqrt\n",
    "\n",
    "\n",
    "# Create a Scattermapbox trace with colors based on 'alt' column\n",
    "trace = go.Scattergeo(\n",
    "    mode='lines+markers',\n",
    "    lon=data['long'],\n",
    "    lat=data['lat'],\n",
    "    line=dict(width=1, color='black'),\n",
    "    marker=dict(\n",
    "        size=6,\n",
    "        color=data['alt'],\n",
    "        colorscale='Viridis',  # Choose the colorscale you prefer\n",
    "        cmin=data['alt'].min(),\n",
    "        cmax=data['alt'].max(),\n",
    "        colorbar=dict(title='Altitude')\n",
    "    ),\n",
    "    hovertemplate='Latitude: %{lat:.4f}<br>Longitude: %{lon:.4f}<br>Altitude: %{text}<br>Az err: %{customdata}<extra></extra>',\n",
    "    text=data['alt'],\n",
    "    customdata=data['az_err']\n",
    ")\n",
    "\n",
    "long360 = data['long'].apply(lambda l: angle360(l)).to_numpy()\n",
    "\n",
    "center_lat = (data['lat'].min() + data['lat'].max()) / 2\n",
    "center_lon = angle180((long360.min() + long360.max()) / 2)\n",
    "\n",
    "print(center_lat, center_lon)\n",
    "\n",
    "\n",
    "# Create the layout for the 3D globe view\n",
    "layout = go.Layout(\n",
    "    title_text='3D Globe View',\n",
    "    showlegend=False,\n",
    "    geo=dict(\n",
    "        showland=True,\n",
    "        landcolor='rgb(243, 243, 243)',\n",
    "        countrycolor='rgb(204, 204, 204)',\n",
    "        showcountries=True,\n",
    "        showocean=True,\n",
    "        lonaxis_gridcolor='rgb(102, 102, 102)',\n",
    "        lataxis_gridcolor='rgb(102, 102, 102)',\n",
    "        oceancolor='rgb(204, 230, 255)',\n",
    "        showcoastlines=True,\n",
    "        coastlinecolor='rgb(204, 204, 204)',\n",
    "        showframe=True,\n",
    "    \n",
    "        center=dict(lat=center_lat, lon=center_lon),\n",
    "        projection=dict(type='orthographic', rotation=dict(lon=center_lon, lat=center_lat, roll=0)),\n",
    "        \n",
    "    )\n",
    ")\n",
    "\n",
    "# Create the figure and add the trace\n",
    "#fig = go.Figure(data=[trace], layout=layout)\n",
    "\n",
    "#fig.show.update_layout(\n",
    "#    autosize=False,\n",
    "#    width=800,\n",
    "#    height=800,)\n",
    "#\n"
   ]
  },
  {
   "cell_type": "code",
   "execution_count": null,
   "id": "193226b8",
   "metadata": {
    "scrolled": false
   },
   "outputs": [],
   "source": [
    "fig, ax = plt.subplots(nrows=2, ncols=1, figsize=(12, 10))\n",
    "\n",
    "plt_ = ax[0]\n",
    "plt1 = plt_.scatter(data['time'], data['alt'], c=data['entry_phase'], cmap=entry_phase_color_map, vmin=1, vmax=5)\n",
    "    \n",
    "\n",
    "plt_.set_xlabel('Time')\n",
    "plt_.set_ylabel('Altitude (km)')\n",
    "plt_.grid()\n",
    "  \n",
    "\n",
    "\n",
    "plt_ = ax[1]\n",
    "plt2 = plt_.scatter(data['time'], data['surfv'], c=data['entry_phase'], cmap=entry_phase_color_map, vmin=1, vmax=5)\n",
    "    \n",
    "plt_.set_xlabel('Time')\n",
    "plt_.set_ylabel('Speed (m/s)')\n",
    "plt_.grid()\n",
    "\n",
    "\n"
   ]
  },
  {
   "cell_type": "code",
   "execution_count": null,
   "id": "2a16640c",
   "metadata": {
    "scrolled": false
   },
   "outputs": [],
   "source": [
    "fig, ax = plt.subplots(nrows=3, ncols=1, figsize=(12, 10))\n",
    "\n",
    "plt_ = ax[0]\n",
    "\n",
    "plt1 = plt_.scatter(data['range'], data['alt'], c=data['entry_phase'], cmap=entry_phase_color_map, vmin=1, vmax=5)\n",
    "\n",
    "    \n",
    "plt_.set_xlabel('Range')\n",
    "plt_.set_ylabel('Altitude (km)')\n",
    "plt_.grid()\n",
    "\n",
    "plt_.invert_xaxis()\n",
    "\n",
    "sin_B = data['az_err'].apply(lambda az: math.sin(math.radians(az))).to_numpy()\n",
    "sin_c = data['range'].apply(lambda r : math.sin(r / 6371) ).to_numpy()\n",
    "xr = np.arcsin(np.multiply(sin_B, sin_c)) * 6371\n",
    "\n",
    "\n",
    "plt_ = ax[1]\n",
    "plt1 = plt_.scatter(data['range'], xr, c=data['entry_phase'], cmap=entry_phase_color_map, vmin=1, vmax=5)\n",
    "\n",
    "\n",
    "    \n",
    "plt_.set_xlabel('Range')\n",
    "plt_.set_ylabel('Crossrange (km)')\n",
    "plt_.grid()\n",
    "\n",
    "plt_.invert_xaxis()\n",
    "\n",
    "plt_ = ax[2]\n",
    "plt1 = plt_.scatter(data['range'], data['surfv'], c=data['entry_phase'], cmap=entry_phase_color_map, vmin=1, vmax=5)\n",
    "\n",
    "\n",
    "plt_.set_xlabel('Range')\n",
    "plt_.set_ylabel('Speed (m/s)')\n",
    "plt_.grid()\n",
    "\n",
    "plt_.invert_xaxis()\n",
    "\n",
    "\n"
   ]
  },
  {
   "cell_type": "code",
   "execution_count": null,
   "id": "d613fca4",
   "metadata": {
    "scrolled": false
   },
   "outputs": [],
   "source": [
    "fig, ax = plt.subplots(nrows=4, ncols=1, figsize=(12, 20))\n",
    "\n",
    "major_ticks = np.arange(0, 7500, 500)\n",
    "\n",
    "plt_ = ax[0]\n",
    "plt_.plot(data['surfv'], data['pitch'])\n",
    "    \n",
    "plt_.set_xlabel('surfv');\n",
    "plt_.set_ylabel('Pitch °')\n",
    "\n",
    "plt_.set_xticks(major_ticks);\n",
    "plt_.grid();\n",
    "\n",
    "\n",
    "plt_.invert_xaxis()\n",
    "\n",
    "plt_ = ax[1]\n",
    "\n",
    "plt_.plot(data['surfv'], abs(data['roll_ref']),'--', color='r',label='roll_ref');\n",
    "plt_.plot(data['surfv'], abs(data['unl_roll']),'--', color='g',label='unl_roll');\n",
    "plt_.plot(data['surfv'], abs(data['roll']),':', color='k',label='abs_roll');\n",
    "plt1 = plt_.plot(data['surfv'], data['roll'], label='roll');\n",
    "\n",
    "plt1 = plt_.scatter(data['surfv'], data['roll'], c=data['entry_phase'], cmap=entry_phase_color_map, vmin=1, vmax=5)\n",
    "\n",
    "\n",
    "    \n",
    "plt_.set_xlabel('surfv')\n",
    "plt_.set_ylabel('Roll °')\n",
    "plt_.legend()\n",
    "\n",
    "plt_.set_xticks(major_ticks);\n",
    "plt_.grid();\n",
    "\n",
    "plt_.invert_xaxis()\n",
    "\n",
    "\n",
    "plt_ = ax[2]\n",
    "\n",
    "\n",
    "plt_.plot(data['surfv'], data['hdot_ref'], '--', linewidth=2, color='k',label='drag_ref')\n",
    "plt1 = plt_.scatter(data['surfv'], data['hdot'], label='drag_actual', c=data['entry_phase'], cmap=entry_phase_color_map, vmin=1, vmax=5)\n",
    " \n",
    "plt_.set_ylim([-200, 150])\n",
    "\n",
    "plt_.set_xlabel('surfv')\n",
    "plt_.set_ylabel('hdot')\n",
    "plt_.set_xticks(major_ticks)\n",
    "plt_.grid()\n",
    "\n",
    "plt_.invert_xaxis()\n",
    "\n",
    "\n",
    "plt_ = ax[3]\n",
    "\n",
    "img = plt.imread(\"drag2.png\")\n",
    "plt_.imshow(img, aspect='auto', extent=[7520, 762, -0.2, 60.2], alpha=1 , cmap='Greys_r');\n",
    "\n",
    "plt_.plot(data['surfv'], data['drag_ref'],'--', linewidth=2, color='k',label='drag_ref');\n",
    "\n",
    "plt1 = plt_.scatter(data['surfv'], data['drag'], label='drag_actual', c=data['entry_phase'], cmap=entry_phase_color_map, vmin=1, vmax=5);\n",
    "  \n",
    "plt.ylim([0, 52])\n",
    "\n",
    "plt_.set_xlabel('surfv')\n",
    "plt_.set_ylabel('drag (ft/s)')\n",
    "plt_.legend()\n",
    "plt_.set_xticks(major_ticks)\n",
    "plt_.grid()\n"
   ]
  },
  {
   "cell_type": "code",
   "execution_count": null,
   "id": "6fb10467",
   "metadata": {
    "scrolled": true
   },
   "outputs": [],
   "source": [
    "fig, ax = plt.subplots(nrows=1, ncols=1, figsize=(12, 10))\n",
    "\n",
    "plt_ = ax\n",
    "plt1 = plt_.scatter(data['surfv'], data['l_d'], c=data['entry_phase'], cmap=entry_phase_color_map, vmin=1, vmax=5)\n",
    "\n",
    "cbar = plt.colorbar(plt1,ticks=[1.4, 2.2, 3.0, 3.8, 4.6])\n",
    "cbar.ax.set_yticklabels(['Preeentry', 'T control', 'Eq glide', 'Const drag', 'Transition'])\n",
    "cbar.set_label('phase')  \n",
    "    \n",
    "plt_.set_xlabel('surfv')\n",
    "plt_.set_ylabel('L/D')\n",
    "plt_.grid()\n",
    "\n",
    "plt.ylim([0, 2.8])\n",
    "\n",
    "plt_.invert_xaxis()\n"
   ]
  },
  {
   "cell_type": "code",
   "execution_count": null,
   "id": "0ddbe16d",
   "metadata": {
    "scrolled": false
   },
   "outputs": [],
   "source": [
    "def traj_disp_new(n, data):\n",
    "    if n==1:\n",
    "        r_speed = (5181, 7925)\n",
    "    elif n==2:\n",
    "        r_speed = (4267, 5181)\n",
    "    elif n==3:\n",
    "        r_speed = (3200, 4267)\n",
    "    elif n==4:\n",
    "        r_speed = (1890, 3200)\n",
    "    elif n==5:\n",
    "        r_speed = (760, 1890)\n",
    "        \n",
    "    traj_data = data[(data['surfv'].between(*r_speed))][['range', 'surfv', 'drag', 'hdot']]\n",
    "\n",
    "    traj_vel = traj_data['surfv'].to_numpy()\n",
    "    traj_drag = traj_data['drag'].to_numpy()\n",
    "    traj_color = traj_data['drag'].to_numpy()\n",
    "\n",
    "    traj_x = np.array([traj_x_convert_new(n, v, d) for v, d in zip(traj_vel, traj_drag)])\n",
    "    traj_y = np.array([traj_y_convert_new(n, v) for v in traj_vel])\n",
    "\n",
    "    trajplot_lines_new(n, [traj_x, traj_y, traj_color])\n",
    "\n",
    "def trajplot_lines_new(n, data):\n",
    "    fig, ax = plt.subplots(nrows=1, ncols=1, figsize=(12, 7))\n",
    "\n",
    "    plt_ = ax\n",
    "    \n",
    "    img = plt.imread(\"traj\" + str(n) + \"_bg.png\")\n",
    "    plt_.imshow(img, aspect='auto', extent=[0, 500, 50, 350])\n",
    "\n",
    "    \n",
    "    custom_cmap = plt.cm.get_cmap('viridis', 20)\n",
    "        \n",
    "    plt1 = plt_.scatter(\n",
    "                       data[0],\n",
    "                       data[1],\n",
    "        c=data[2], cmap=custom_cmap, s=10)\n",
    "\n",
    "\n",
    "    major_ticks = np.arange(0, 500, 25)\n",
    "    \n",
    "    ax.set_xticks(major_ticks)\n",
    "    ax.set_yticks(major_ticks)\n",
    "    \n",
    "    # And a corresponding grid\n",
    "    ax.grid(which='both')\n",
    "    \n",
    "    plt_.set_xlim([0, 500])\n",
    "    plt_.set_ylim([50, 350])\n",
    "    \n",
    "    cbar = plt.colorbar(plt1)\n",
    "    \n",
    "        \n",
    "def traj_x_convert_new(n, vel, drag):\n",
    "    \n",
    "    if n==1:\n",
    "        return 1269.3735913802313 + -0.08206361592134565 * vel**1 * drag**0 + -153.9799520644858 * vel**0 * drag**1 + -3.1466697000533627e-06 * vel**2 * drag**0 + 0.01314221307938963 * vel**1 * drag**1 + 4.662789044310247 * vel**0 * drag**2 + 7.728348100366489e-10 * vel**3 * drag**0 + -4.161746084256363e-07 * vel**2 * drag**1 + -0.00015695195109508781 * vel**1 * drag**2 + -0.052420876333425334 * vel**0 * drag**3\n",
    "    elif n==2:\n",
    "        return -119.27311679936585 + 0.1310360825751968 * vel**1 * drag**0 + -14.509634466688668 * vel**0 * drag**1 + -4.508956766569039e-07 * vel**2 * drag**0 + 0.0014529141150055665 * vel**1 * drag**1 + -0.004804810480900542 * vel**0 * drag**2\n",
    "    elif n==3:\n",
    "        return-149.89669862960386 + 0.20623953463938421 * vel**1 * drag**0 + -14.736386540438081 * vel**0 * drag**1 + -4.726735117477343e-07 * vel**2 * drag**0 + 0.00040459906559150603 * vel**1 * drag**1 + 0.07268485357148893 * vel**0 * drag**2\n",
    "    elif n==4:\n",
    "        return -947.0277680149138 + 0.9326046841966658 * vel**1 * drag**0 + -15.119041886140064 * vel**0 * drag**1 + -0.00010680530051221382 * vel**2 * drag**0 + -0.0022032464462389545 * vel**1 * drag**1 + 0.21019379999928509 * vel**0 * drag**2\n",
    "    elif n==5:\n",
    "        return -454.1109719968744 + 0.920975633806626 * vel**1 * drag**0 + -3.5281349354281684 * vel**0 * drag**1 + -0.00019912799779653323 * vel**2 * drag**0 + -0.0007382687005499898 * vel**1 * drag**1 + -0.02196699999990539 * vel**0 * drag**2\n",
    "        \n",
    "            \n",
    "def traj_y_convert_new(n, vel):\n",
    "\n",
    "    if n==1:\n",
    "        out = (0.00036443148 * vel - 1.88811953353)\n",
    "    elif n==2:\n",
    "        out = (0.0010940919 * vel - 4.66849015317)\n",
    "    elif n==3:\n",
    "        out = (0.00093720712 * vel - 2.99906279288)\n",
    "    elif n==4:\n",
    "        out = (0.00076335877 * vel - 1.4427480916)\n",
    "    elif n==5:\n",
    "        out = (0.00088495575 * vel - 0.67256637168)\n",
    "\n",
    "    return  59.5 + 280.2 * out\n",
    "    "
   ]
  },
  {
   "cell_type": "code",
   "execution_count": null,
   "id": "427f5b09",
   "metadata": {
    "scrolled": false
   },
   "outputs": [],
   "source": [
    "traj_disp_new(1, data)\n",
    "traj_disp_new(2, data)\n",
    "traj_disp_new(3, data)\n",
    "traj_disp_new(4, data)\n",
    "traj_disp_new(5, data)"
   ]
  }
 ],
 "metadata": {
  "kernelspec": {
   "display_name": "Python 3 (ipykernel)",
   "language": "python",
   "name": "python3"
  },
  "language_info": {
   "codemirror_mode": {
    "name": "ipython",
    "version": 3
   },
   "file_extension": ".py",
   "mimetype": "text/x-python",
   "name": "python",
   "nbconvert_exporter": "python",
   "pygments_lexer": "ipython3",
   "version": "3.7.9"
  }
 },
 "nbformat": 4,
 "nbformat_minor": 5
}
