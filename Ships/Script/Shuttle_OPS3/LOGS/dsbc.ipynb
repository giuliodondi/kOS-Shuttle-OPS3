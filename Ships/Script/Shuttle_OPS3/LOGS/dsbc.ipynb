{
 "cells": [
  {
   "cell_type": "code",
   "execution_count": 1,
   "id": "fdde3306-69a2-4afa-aa3c-bd9e9e4f91d0",
   "metadata": {
    "jupyter": {
     "source_hidden": true
    },
    "scrolled": true
   },
   "outputs": [
    {
     "name": "stderr",
     "output_type": "stream",
     "text": [
      "C:\\Users\\giuli\\AppData\\Local\\Temp\\ipykernel_8944\\2002964172.py:7: DeprecationWarning: \n",
      "Pyarrow will become a required dependency of pandas in the next major release of pandas (pandas 3.0),\n",
      "(to allow more performant data types, such as the Arrow string type, and better interoperability with other libraries)\n",
      "but was not found to be installed on your system.\n",
      "If this would cause problems for you,\n",
      "please provide us feedback at https://github.com/pandas-dev/pandas/issues/54466\n",
      "        \n",
      "  import pandas as pd\n"
     ]
    }
   ],
   "source": [
    "from IPython.core.interactiveshell import InteractiveShell\n",
    "InteractiveShell.ast_node_interactivity = \"all\"\n",
    "\n",
    "import numpy as np\n",
    "import math\n",
    "import os\n",
    "import pandas as pd\n",
    "import matplotlib.pyplot as plt\n",
    "from mpl_toolkits.mplot3d import axes3d  \n",
    "\n",
    "from math import log2, radians, cos, sqrt\n",
    "\n",
    "pd.options.display.max_rows = 4000\n",
    "\n",
    "from matplotlib.colors import ListedColormap"
   ]
  },
  {
   "cell_type": "code",
   "execution_count": 21,
   "id": "e01a5327-0aa7-43de-a000-b4d04aaaf610",
   "metadata": {},
   "outputs": [],
   "source": [
    "def midval(a, b, c):\n",
    "    maxx = max(max(a,b), c)\n",
    "    minn = min(min(a, b), c)\n",
    "    \n",
    "    return a + b + c - maxx - minn\n",
    "\n",
    "def dsbcll(mach):\n",
    "    dsbsup = 65\n",
    "    dsblls = 30\n",
    "    dsbcm = 1.5\n",
    "\n",
    "    return midval(0 + dsblls * (mach - dsbcm), 0, dsbsup)\n",
    "\n",
    "def dsbcul(mach):\n",
    "    dsbsup = 65\n",
    "    dsbuls = -336\n",
    "    dsbcm = 1.5\n",
    "\n",
    "    return midval(dsbsup + dsbuls * (mach - dsbcm), dsbsup, dsbsup)"
   ]
  },
  {
   "cell_type": "code",
   "execution_count": 22,
   "id": "40da9f81-9491-460c-af94-f84feb4cc1f2",
   "metadata": {},
   "outputs": [
    {
     "data": {
      "text/plain": [
       "<Figure size 600x600 with 0 Axes>"
      ]
     },
     "execution_count": 22,
     "metadata": {},
     "output_type": "execute_result"
    },
    {
     "data": {
      "text/plain": [
       "[<matplotlib.lines.Line2D at 0x2246deb3fd0>]"
      ]
     },
     "execution_count": 22,
     "metadata": {},
     "output_type": "execute_result"
    },
    {
     "data": {
      "text/plain": [
       "[<matplotlib.lines.Line2D at 0x2246de07690>]"
      ]
     },
     "execution_count": 22,
     "metadata": {},
     "output_type": "execute_result"
    },
    {
     "data": {
      "image/png": "[encoded data removed]",
      "text/plain": [
       "<Figure size 600x600 with 1 Axes>"
      ]
     },
     "metadata": {},
     "output_type": "display_data"
    }
   ],
   "source": [
    "m_ = np.linspace(0, 3, 500)\n",
    "\n",
    "dsbcll_ = [dsbcll(m) for m in m_]\n",
    "dsbcul_ = [dsbcul(m) for m in m_]\n",
    "\n",
    "\n",
    "plt.figure(figsize=(6,6))\n",
    "plt.plot(m_, dsbcll_)\n",
    "plt.plot(m_, dsbcul_)"
   ]
  },
  {
   "cell_type": "code",
   "execution_count": null,
   "id": "dcf3148a-8acc-4990-876d-e461767b1248",
   "metadata": {},
   "outputs": [],
   "source": []
  }
 ],
 "metadata": {
  "kernelspec": {
   "display_name": "Python 3 (ipykernel)",
   "language": "python",
   "name": "python3"
  },
  "language_info": {
   "codemirror_mode": {
    "name": "ipython",
    "version": 3
   },
   "file_extension": ".py",
   "mimetype": "text/x-python",
   "name": "python",
   "nbconvert_exporter": "python",
   "pygments_lexer": "ipython3",
   "version": "3.11.7"
  }
 },
 "nbformat": 4,
 "nbformat_minor": 5
}
